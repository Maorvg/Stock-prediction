{
  "nbformat": 4,
  "nbformat_minor": 0,
  "metadata": {
    "colab": {
      "name": "Untitled6.ipynb",
      "provenance": []
    },
    "kernelspec": {
      "name": "python3",
      "display_name": "Python 3"
    },
    "accelerator": "GPU"
  },
  "cells": [
    {
      "cell_type": "markdown",
      "metadata": {
        "id": "x0hV5TfKeOs5"
      },
      "source": [
        "This is a simple STLM example of how code can aid in stock prediction"
      ]
    },
    {
      "cell_type": "code",
      "metadata": {
        "id": "aynyGSIhmQar"
      },
      "source": [
        "import math\r\n",
        "import pandas_datareader as Web\r\n",
        "import numpy as np\r\n",
        "import pandas as pd\r\n",
        "import matplotlib.pyplot as plt\r\n",
        "\r\n",
        "from keras.models import Sequential\r\n",
        "from keras.layers import Dense, LSTM\r\n",
        "from sklearn.preprocessing import MinMaxScaler"
      ],
      "execution_count": 1,
      "outputs": []
    },
    {
      "cell_type": "markdown",
      "metadata": {
        "id": "bZ77j3nyehOR"
      },
      "source": [
        "Importing data about apple stock"
      ]
    },
    {
      "cell_type": "code",
      "metadata": {
        "id": "fw0JM0ZKnSmE"
      },
      "source": [
        "df = Web.DataReader('AAPL',data_source='yahoo', start='2015-01-01',end='2021-03-04')\r\n"
      ],
      "execution_count": 2,
      "outputs": []
    },
    {
      "cell_type": "markdown",
      "metadata": {
        "id": "AtPb_bILejcx"
      },
      "source": [
        "Filtering the dataset to be only the date and the closing price."
      ]
    },
    {
      "cell_type": "code",
      "metadata": {
        "id": "CuFDgEulpBgn"
      },
      "source": [
        "data=df.filter(['Close'])\r\n",
        "dataset=data.values\r\n",
        "training_data_len=math.ceil(len(dataset)*0.8) # setting training data to be 80% of the whole data\r\n",
        "\r\n"
      ],
      "execution_count": 3,
      "outputs": []
    },
    {
      "cell_type": "markdown",
      "metadata": {
        "id": "25DbpgXMewcz"
      },
      "source": [
        "Setting the scaler to make the values readable by the model."
      ]
    },
    {
      "cell_type": "code",
      "metadata": {
        "id": "GMZImfInqEvA"
      },
      "source": [
        "scaler=MinMaxScaler(feature_range=(0,1))\r\n",
        "scaled_data=scaler.fit_transform(dataset)\r\n"
      ],
      "execution_count": 4,
      "outputs": []
    },
    {
      "cell_type": "markdown",
      "metadata": {
        "id": "TI1CU-QJe8jv"
      },
      "source": [
        "Setting the input and outcome. the outcome will be determied by the previous 60 closing prices"
      ]
    },
    {
      "cell_type": "code",
      "metadata": {
        "id": "pSas0zASqcqI"
      },
      "source": [
        "train_data=scaled_data[0:training_data_len, :]\r\n",
        "x_train=[]\r\n",
        "y_train=[]\r\n",
        "\r\n",
        "for i in range(60, len(train_data)):\r\n",
        "  x_train.append(train_data[i-60:i,0])\r\n",
        "  y_train.append(train_data[i,0])"
      ],
      "execution_count": 5,
      "outputs": []
    },
    {
      "cell_type": "markdown",
      "metadata": {
        "id": "u0csyXVdfLoe"
      },
      "source": [
        "Converting the lists into arrays"
      ]
    },
    {
      "cell_type": "code",
      "metadata": {
        "id": "zLvMO108r6Y7"
      },
      "source": [
        "x_train,y_train=np.array(x_train),np.array(y_train)"
      ],
      "execution_count": 6,
      "outputs": []
    },
    {
      "cell_type": "markdown",
      "metadata": {
        "id": "C3naEfyifRLu"
      },
      "source": [
        "Reshaping the data because the model takes in a 3d object"
      ]
    },
    {
      "cell_type": "code",
      "metadata": {
        "id": "U43NOo-QsHcy"
      },
      "source": [
        "x_train=np.reshape(x_train,(x_train.shape[0],x_train.shape[1],1))\r\n"
      ],
      "execution_count": 7,
      "outputs": []
    },
    {
      "cell_type": "markdown",
      "metadata": {
        "id": "PKD2XSpwfYY2"
      },
      "source": [
        "building the model out of LSTM and dense layerds"
      ]
    },
    {
      "cell_type": "code",
      "metadata": {
        "id": "c7iIYlKDvJsB"
      },
      "source": [
        "model=Sequential()\r\n",
        "model.add(LSTM(units=20, return_sequences=True,input_shape=(x_train.shape[1],1)))\r\n",
        "model.add(LSTM(70,return_sequences=False))\r\n",
        "model.add(Dense(20))\r\n",
        "model.add(Dense(1))"
      ],
      "execution_count": 8,
      "outputs": []
    },
    {
      "cell_type": "markdown",
      "metadata": {
        "id": "yjlQgUpFff8h"
      },
      "source": [
        "Defining the optimizer and the loss function"
      ]
    },
    {
      "cell_type": "code",
      "metadata": {
        "id": "9MU6Y0sHwIrR"
      },
      "source": [
        "model.compile(optimizer='adam',loss='mean_squared_error')\r\n"
      ],
      "execution_count": 9,
      "outputs": []
    },
    {
      "cell_type": "markdown",
      "metadata": {
        "id": "jL5k6Lk6fl1X"
      },
      "source": [
        "Training the model on the training data"
      ]
    },
    {
      "cell_type": "code",
      "metadata": {
        "colab": {
          "base_uri": "https://localhost:8080/"
        },
        "id": "r1E6zy-SwdKE",
        "outputId": "364f1fd9-802d-4a04-ea0a-e687744583ac"
      },
      "source": [
        "model.fit(x_train, y_train, batch_size=1, epochs=1)"
      ],
      "execution_count": 10,
      "outputs": [
        {
          "output_type": "stream",
          "text": [
            "1183/1183 [==============================] - 41s 7ms/step - loss: 7.6468e-04\n"
          ],
          "name": "stdout"
        },
        {
          "output_type": "execute_result",
          "data": {
            "text/plain": [
              "<tensorflow.python.keras.callbacks.History at 0x7fb129057610>"
            ]
          },
          "metadata": {
            "tags": []
          },
          "execution_count": 10
        }
      ]
    },
    {
      "cell_type": "markdown",
      "metadata": {
        "id": "PAsoseNTfsnw"
      },
      "source": [
        "Creating the test data from the rest of the data, and reshaping it, so it can be put into the model"
      ]
    },
    {
      "cell_type": "code",
      "metadata": {
        "id": "7ZqT0vqSxCzU"
      },
      "source": [
        "test_data=scaled_data[training_data_len-60:, :]\r\n",
        "x_test=[]\r\n",
        "y_test=dataset[training_data_len:, :]\r\n",
        "for i in range (60,len(test_data)):\r\n",
        "  x_test.append(test_data[i-60:i,0])"
      ],
      "execution_count": 11,
      "outputs": []
    },
    {
      "cell_type": "code",
      "metadata": {
        "id": "hAi80tQ6yLhs"
      },
      "source": [
        "x_test=np.array(x_test)\r\n",
        "x_test=np.reshape(x_test,(x_test.shape[0],x_test.shape[1],1))\r\n"
      ],
      "execution_count": 12,
      "outputs": []
    },
    {
      "cell_type": "markdown",
      "metadata": {
        "id": "lzDWZAAogCLN"
      },
      "source": [
        "Setting the prediction and calculating the accuracy of our model with root mean square error (RMSE)"
      ]
    },
    {
      "cell_type": "code",
      "metadata": {
        "id": "CqEcY8Bsyyg0"
      },
      "source": [
        "pred=model.predict(x_test)\r\n",
        "pred=scaler.inverse_transform(pred)\r\n"
      ],
      "execution_count": 13,
      "outputs": []
    },
    {
      "cell_type": "code",
      "metadata": {
        "colab": {
          "base_uri": "https://localhost:8080/"
        },
        "id": "Ju8nxSRUzMMx",
        "outputId": "4af8fad4-6556-438e-a812-8beba1286f9a"
      },
      "source": [
        "rmse=np.sqrt(np.mean(((pred-y_test)**2)))\r\n",
        "rmse"
      ],
      "execution_count": 14,
      "outputs": [
        {
          "output_type": "execute_result",
          "data": {
            "text/plain": [
              "5.565267215018286"
            ]
          },
          "metadata": {
            "tags": []
          },
          "execution_count": 14
        }
      ]
    },
    {
      "cell_type": "markdown",
      "metadata": {
        "id": "Vq4gfRfvgct2"
      },
      "source": [
        "Plotting the data, along side the test data and the prediction of the model "
      ]
    },
    {
      "cell_type": "code",
      "metadata": {
        "colab": {
          "base_uri": "https://localhost:8080/",
          "height": 584
        },
        "id": "JC20QBM_zue_",
        "outputId": "45a570e8-85c0-46b6-ed12-3ceb69b004dd"
      },
      "source": [
        "train=data[:training_data_len]\r\n",
        "valid=data[training_data_len:]\r\n",
        "valid['pred']=pred\r\n",
        "plt.figure(figsize=(16,8))\r\n",
        "plt.xlable=('Date')\r\n",
        "plt.ylable=('closing price')\r\n",
        "plt.plot(train['Close'])\r\n",
        "plt.plot(valid[['Close','pred']])\r\n",
        "plt.legend(['train','val','pred'],loc='lower right')\r\n",
        "plt.show()"
      ],
      "execution_count": 15,
      "outputs": [
        {
          "output_type": "stream",
          "text": [
            "/usr/local/lib/python3.7/dist-packages/ipykernel_launcher.py:3: SettingWithCopyWarning: \n",
            "A value is trying to be set on a copy of a slice from a DataFrame.\n",
            "Try using .loc[row_indexer,col_indexer] = value instead\n",
            "\n",
            "See the caveats in the documentation: https://pandas.pydata.org/pandas-docs/stable/user_guide/indexing.html#returning-a-view-versus-a-copy\n",
            "  This is separate from the ipykernel package so we can avoid doing imports until\n"
          ],
          "name": "stderr"
        },
        {
          "output_type": "display_data",
          "data": {
            "image/png": "[encoded data removed]",
            "text/plain": [
              "<Figure size 1152x576 with 1 Axes>"
            ]
          },
          "metadata": {
            "tags": [],
            "needs_background": "light"
          }
        }
      ]
    },
    {
      "cell_type": "markdown",
      "metadata": {
        "id": "3hlWe4CNgzAJ"
      },
      "source": [
        "predicting the current price of the stock"
      ]
    },
    {
      "cell_type": "code",
      "metadata": {
        "colab": {
          "base_uri": "https://localhost:8080/"
        },
        "id": "jsTBbVEl1b11",
        "outputId": "02535600-1665-4798-d1ac-518b1ed6b0f5"
      },
      "source": [
        "last_60_days=data[-60:].values\r\n",
        "last_60_scaled=scaler.transform(last_60_days)\r\n",
        "X_test=[]\r\n",
        "X_test.append(last_60_scaled)\r\n",
        "X_test=np.array(X_test)\r\n",
        "X_test=np.reshape(X_test,(X_test.shape[0],X_test.shape[1],1))\r\n",
        "pred_price=model.predict(X_test)\r\n",
        "pred_price=scaler.inverse_transform(pred_price)\r\n",
        "print(pred_price)"
      ],
      "execution_count": 16,
      "outputs": [
        {
          "output_type": "stream",
          "text": [
            "[[129.42148]]\n"
          ],
          "name": "stdout"
        }
      ]
    },
    {
      "cell_type": "code",
      "metadata": {
        "id": "hWsvPGH55zig"
      },
      "source": [
        ""
      ],
      "execution_count": 16,
      "outputs": []
    }
  ]
}